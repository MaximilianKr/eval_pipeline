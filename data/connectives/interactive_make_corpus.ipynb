{
 "cells": [
  {
   "cell_type": "markdown",
   "metadata": {},
   "source": [
    "## Make connectives corpus\n",
    "\n",
    "- preprocess data from `.json`\n",
    "- create stimuli for causal and connective minimal pairs\n",
    "- export to `.csv`"
   ]
  },
  {
   "cell_type": "code",
   "execution_count": 2,
   "metadata": {},
   "outputs": [],
   "source": [
    "import re\n",
    "import pandas as pd"
   ]
  },
  {
   "cell_type": "code",
   "execution_count": 3,
   "metadata": {},
   "outputs": [],
   "source": [
    "df = pd.read_csv(\n",
    "    \"english_stimuli_connector_2014_drenhaus_et_al.json\", delimiter='\\t'\n",
    "    )"
   ]
  },
  {
   "cell_type": "code",
   "execution_count": 4,
   "metadata": {},
   "outputs": [
    {
     "data": {
      "text/html": [
       "<div>\n",
       "<style scoped>\n",
       "    .dataframe tbody tr th:only-of-type {\n",
       "        vertical-align: middle;\n",
       "    }\n",
       "\n",
       "    .dataframe tbody tr th {\n",
       "        vertical-align: top;\n",
       "    }\n",
       "\n",
       "    .dataframe thead th {\n",
       "        text-align: right;\n",
       "    }\n",
       "</style>\n",
       "<table border=\"1\" class=\"dataframe\">\n",
       "  <thead>\n",
       "    <tr style=\"text-align: right;\">\n",
       "      <th></th>\n",
       "      <th>id</th>\n",
       "      <th>sentence</th>\n",
       "      <th>target</th>\n",
       "      <th>connective_type</th>\n",
       "    </tr>\n",
       "  </thead>\n",
       "  <tbody>\n",
       "    <tr>\n",
       "      <th>0</th>\n",
       "      <td>0</td>\n",
       "      <td>John is thinking about going to see the latest...</td>\n",
       "      <td>Therefore</td>\n",
       "      <td>causal</td>\n",
       "    </tr>\n",
       "    <tr>\n",
       "      <th>1</th>\n",
       "      <td>1</td>\n",
       "      <td>John is thinking about going to see the latest...</td>\n",
       "      <td>Nevertheless</td>\n",
       "      <td>concessive</td>\n",
       "    </tr>\n",
       "    <tr>\n",
       "      <th>2</th>\n",
       "      <td>2</td>\n",
       "      <td>Mr. Brown was planning to look for new glasses...</td>\n",
       "      <td>Therefore</td>\n",
       "      <td>causal</td>\n",
       "    </tr>\n",
       "    <tr>\n",
       "      <th>3</th>\n",
       "      <td>3</td>\n",
       "      <td>Mr. Brown was planning to look for new glasses...</td>\n",
       "      <td>Nevertheless</td>\n",
       "      <td>concessive</td>\n",
       "    </tr>\n",
       "    <tr>\n",
       "      <th>4</th>\n",
       "      <td>4</td>\n",
       "      <td>Stan is thinking about jobs; he would like to ...</td>\n",
       "      <td>Nevertheless</td>\n",
       "      <td>concessive</td>\n",
       "    </tr>\n",
       "  </tbody>\n",
       "</table>\n",
       "</div>"
      ],
      "text/plain": [
       "   id                                           sentence        target  \\\n",
       "0   0  John is thinking about going to see the latest...     Therefore   \n",
       "1   1  John is thinking about going to see the latest...  Nevertheless   \n",
       "2   2  Mr. Brown was planning to look for new glasses...     Therefore   \n",
       "3   3  Mr. Brown was planning to look for new glasses...  Nevertheless   \n",
       "4   4  Stan is thinking about jobs; he would like to ...  Nevertheless   \n",
       "\n",
       "  connective_type  \n",
       "0          causal  \n",
       "1      concessive  \n",
       "2          causal  \n",
       "3      concessive  \n",
       "4      concessive  "
      ]
     },
     "execution_count": 4,
     "metadata": {},
     "output_type": "execute_result"
    }
   ],
   "source": [
    "df.head()"
   ]
  },
  {
   "cell_type": "markdown",
   "metadata": {},
   "source": [
    "`target` = 'Therefore'"
   ]
  },
  {
   "cell_type": "code",
   "execution_count": 11,
   "metadata": {},
   "outputs": [
    {
     "data": {
      "text/plain": [
       "'John is thinking about going to see the latest movie or to listen to some famous arias. He would like to hear some great tenors and sopranos.   [MASK] he buys tickets for  an opera in the city center. '"
      ]
     },
     "execution_count": 11,
     "metadata": {},
     "output_type": "execute_result"
    }
   ],
   "source": [
    "df.iloc[0][\"sentence\"]"
   ]
  },
  {
   "cell_type": "markdown",
   "metadata": {},
   "source": [
    "`target` = 'Nevertheless'"
   ]
  },
  {
   "cell_type": "code",
   "execution_count": 12,
   "metadata": {},
   "outputs": [
    {
     "data": {
      "text/plain": [
       "'John is thinking about going to see the latest movie or to listen to some famous arias. He would like to hear some great tenors and sopranos.   [MASK] he buys tickets for  a cinema in the city center. '"
      ]
     },
     "execution_count": 12,
     "metadata": {},
     "output_type": "execute_result"
    }
   ],
   "source": [
    "df.iloc[1][\"sentence\"]"
   ]
  },
  {
   "cell_type": "markdown",
   "metadata": {},
   "source": [
    "### Preprocessing"
   ]
  },
  {
   "cell_type": "markdown",
   "metadata": {},
   "source": [
    "Function to clean redundant whitespace"
   ]
  },
  {
   "cell_type": "code",
   "execution_count": 19,
   "metadata": {},
   "outputs": [],
   "source": [
    "def clean_whitespace(text):\n",
    "    return re.sub(r'\\s+', ' ', text).strip()"
   ]
  },
  {
   "cell_type": "markdown",
   "metadata": {},
   "source": [
    "Iterate through pairs of rows and create stimuli"
   ]
  },
  {
   "cell_type": "code",
   "execution_count": 14,
   "metadata": {},
   "outputs": [],
   "source": [
    "collected_data = []\n",
    "\n",
    "# Iterate through pairs of rows (ids)\n",
    "for i in range(0, len(df['id']), 2):\n",
    "    # Extract the current pair of rows\n",
    "    row1 = df.iloc[i]\n",
    "    row2 = df.iloc[i + 1] if i + 1 < len(df) else None\n",
    "    \n",
    "    # Process the first row (i)\n",
    "    sentence1 = clean_whitespace(row1['sentence'])\n",
    "    prefix1, suffix1 = sentence1.split('[MASK]')\n",
    "    prefix1 = clean_whitespace(prefix1)\n",
    "    suffix1 = clean_whitespace(suffix1)\n",
    "    good_continuation1 = f\"{row1['target']} {suffix1}\".strip().rstrip('.')\n",
    "    bad_continuation1 = f\"{row2['target']} {suffix1}\".strip().rstrip('.') if row2 is not None else \"\"\n",
    "\n",
    "    collected_data.append({\n",
    "        'item_id': row1['id'],\n",
    "        'prefix': prefix1,\n",
    "        'good_continuation': good_continuation1,\n",
    "        'bad_continuation': bad_continuation1,\n",
    "        'category': row1['connective_type']\n",
    "    })\n",
    "    \n",
    "    # Process the second row (i+1) if it exists\n",
    "    if row2 is not None:\n",
    "        sentence2 = clean_whitespace(row2['sentence'])\n",
    "        prefix2, suffix2 = sentence2.split('[MASK]')\n",
    "        prefix2 = clean_whitespace(prefix2)\n",
    "        suffix2 = clean_whitespace(suffix2)\n",
    "        good_continuation2 = f\"{row2['target']} {suffix2}\".strip().rstrip('.')\n",
    "        bad_continuation2 = f\"{row1['target']} {suffix2}\".strip().rstrip('.')\n",
    "\n",
    "        collected_data.append({\n",
    "            'item_id': row2['id'],\n",
    "            'prefix': prefix2,\n",
    "            'good_continuation': good_continuation2,\n",
    "            'bad_continuation': bad_continuation2,\n",
    "            'category': row2['connective_type']\n",
    "        })\n"
   ]
  },
  {
   "cell_type": "markdown",
   "metadata": {},
   "source": [
    "Convert the collected data into a DataFrame"
   ]
  },
  {
   "cell_type": "code",
   "execution_count": 17,
   "metadata": {},
   "outputs": [],
   "source": [
    "processed_df = pd.DataFrame(collected_data)"
   ]
  },
  {
   "cell_type": "code",
   "execution_count": 18,
   "metadata": {},
   "outputs": [
    {
     "data": {
      "text/html": [
       "<div>\n",
       "<style scoped>\n",
       "    .dataframe tbody tr th:only-of-type {\n",
       "        vertical-align: middle;\n",
       "    }\n",
       "\n",
       "    .dataframe tbody tr th {\n",
       "        vertical-align: top;\n",
       "    }\n",
       "\n",
       "    .dataframe thead th {\n",
       "        text-align: right;\n",
       "    }\n",
       "</style>\n",
       "<table border=\"1\" class=\"dataframe\">\n",
       "  <thead>\n",
       "    <tr style=\"text-align: right;\">\n",
       "      <th></th>\n",
       "      <th>item_id</th>\n",
       "      <th>prefix</th>\n",
       "      <th>good_continuation</th>\n",
       "      <th>bad_continuation</th>\n",
       "      <th>category</th>\n",
       "    </tr>\n",
       "  </thead>\n",
       "  <tbody>\n",
       "    <tr>\n",
       "      <th>0</th>\n",
       "      <td>0</td>\n",
       "      <td>John is thinking about going to see the latest...</td>\n",
       "      <td>Therefore he buys tickets for an opera in the ...</td>\n",
       "      <td>Nevertheless he buys tickets for an opera in t...</td>\n",
       "      <td>causal</td>\n",
       "    </tr>\n",
       "    <tr>\n",
       "      <th>1</th>\n",
       "      <td>1</td>\n",
       "      <td>John is thinking about going to see the latest...</td>\n",
       "      <td>Nevertheless he buys tickets for a cinema in t...</td>\n",
       "      <td>Therefore he buys tickets for a cinema in the ...</td>\n",
       "      <td>concessive</td>\n",
       "    </tr>\n",
       "    <tr>\n",
       "      <th>2</th>\n",
       "      <td>2</td>\n",
       "      <td>Mr. Brown was planning to look for new glasses...</td>\n",
       "      <td>Therefore he now heads towards an optician tha...</td>\n",
       "      <td>Nevertheless he now heads towards an optician ...</td>\n",
       "      <td>causal</td>\n",
       "    </tr>\n",
       "    <tr>\n",
       "      <th>3</th>\n",
       "      <td>3</td>\n",
       "      <td>Mr. Brown was planning to look for new glasses...</td>\n",
       "      <td>Nevertheless he now heads towards a shoe shop ...</td>\n",
       "      <td>Therefore he now heads towards a shoe shop tha...</td>\n",
       "      <td>concessive</td>\n",
       "    </tr>\n",
       "    <tr>\n",
       "      <th>4</th>\n",
       "      <td>4</td>\n",
       "      <td>Stan is thinking about jobs; he would like to ...</td>\n",
       "      <td>Nevertheless he decides that he wants to becom...</td>\n",
       "      <td>Therefore he decides that he wants to become a...</td>\n",
       "      <td>concessive</td>\n",
       "    </tr>\n",
       "  </tbody>\n",
       "</table>\n",
       "</div>"
      ],
      "text/plain": [
       "   item_id                                             prefix  \\\n",
       "0        0  John is thinking about going to see the latest...   \n",
       "1        1  John is thinking about going to see the latest...   \n",
       "2        2  Mr. Brown was planning to look for new glasses...   \n",
       "3        3  Mr. Brown was planning to look for new glasses...   \n",
       "4        4  Stan is thinking about jobs; he would like to ...   \n",
       "\n",
       "                                   good_continuation  \\\n",
       "0  Therefore he buys tickets for an opera in the ...   \n",
       "1  Nevertheless he buys tickets for a cinema in t...   \n",
       "2  Therefore he now heads towards an optician tha...   \n",
       "3  Nevertheless he now heads towards a shoe shop ...   \n",
       "4  Nevertheless he decides that he wants to becom...   \n",
       "\n",
       "                                    bad_continuation    category  \n",
       "0  Nevertheless he buys tickets for an opera in t...      causal  \n",
       "1  Therefore he buys tickets for a cinema in the ...  concessive  \n",
       "2  Nevertheless he now heads towards an optician ...      causal  \n",
       "3  Therefore he now heads towards a shoe shop tha...  concessive  \n",
       "4  Therefore he decides that he wants to become a...  concessive  "
      ]
     },
     "execution_count": 18,
     "metadata": {},
     "output_type": "execute_result"
    }
   ],
   "source": [
    "processed_df.head()"
   ]
  },
  {
   "cell_type": "markdown",
   "metadata": {},
   "source": [
    "Export the dataframe to `corpus.csv`"
   ]
  },
  {
   "cell_type": "code",
   "execution_count": null,
   "metadata": {},
   "outputs": [],
   "source": [
    "processed_df.to_csv(\"corpus.csv\", index=False)"
   ]
  }
 ],
 "metadata": {
  "kernelspec": {
   "display_name": "meta-w",
   "language": "python",
   "name": "python3"
  },
  "language_info": {
   "codemirror_mode": {
    "name": "ipython",
    "version": 3
   },
   "file_extension": ".py",
   "mimetype": "text/x-python",
   "name": "python",
   "nbconvert_exporter": "python",
   "pygments_lexer": "ipython3",
   "version": "3.11.9"
  }
 },
 "nbformat": 4,
 "nbformat_minor": 2
}
